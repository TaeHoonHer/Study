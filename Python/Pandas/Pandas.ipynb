{
 "cells": [
  {
   "cell_type": "code",
   "execution_count": 1,
   "id": "0cccc229",
   "metadata": {},
   "outputs": [],
   "source": [
    "## Pandas 설치\n",
    "# pip install pandas"
   ]
  },
  {
   "cell_type": "code",
   "execution_count": 2,
   "id": "b2316996",
   "metadata": {},
   "outputs": [],
   "source": [
    "import pandas as pd"
   ]
  },
  {
   "cell_type": "code",
   "execution_count": 3,
   "id": "37e8dfca",
   "metadata": {},
   "outputs": [
    {
     "data": {
      "text/plain": [
       "'1.3.4'"
      ]
     },
     "execution_count": 3,
     "metadata": {},
     "output_type": "execute_result"
    }
   ],
   "source": [
    "pd.__version__"
   ]
  },
  {
   "cell_type": "markdown",
   "id": "869b3ea0",
   "metadata": {},
   "source": [
    "## Series"
   ]
  },
  {
   "cell_type": "code",
   "execution_count": 4,
   "id": "48dd707d",
   "metadata": {},
   "outputs": [
    {
     "data": {
      "text/plain": [
       "0    2019\n",
       "1    2020\n",
       "2    2021\n",
       "3    2022\n",
       "dtype: object"
      ]
     },
     "execution_count": 4,
     "metadata": {},
     "output_type": "execute_result"
    }
   ],
   "source": [
    "data = ['2019', '2020', '2021', '2022']\n",
    "se = pd.Series(data)\n",
    "se"
   ]
  },
  {
   "cell_type": "markdown",
   "id": "cb83ee6c",
   "metadata": {},
   "source": [
    "## index, values"
   ]
  },
  {
   "cell_type": "code",
   "execution_count": 5,
   "id": "820db95e",
   "metadata": {},
   "outputs": [
    {
     "data": {
      "text/plain": [
       "RangeIndex(start=0, stop=4, step=1)"
      ]
     },
     "execution_count": 5,
     "metadata": {},
     "output_type": "execute_result"
    }
   ],
   "source": [
    "se.index"
   ]
  },
  {
   "cell_type": "code",
   "execution_count": 6,
   "id": "451f69d4",
   "metadata": {},
   "outputs": [
    {
     "data": {
      "text/plain": [
       "array(['2019', '2020', '2021', '2022'], dtype=object)"
      ]
     },
     "execution_count": 6,
     "metadata": {},
     "output_type": "execute_result"
    }
   ],
   "source": [
    "se.values"
   ]
  },
  {
   "cell_type": "code",
   "execution_count": 7,
   "id": "842d90eb",
   "metadata": {},
   "outputs": [
    {
     "data": {
      "text/plain": [
       "['2019', '2020', '2021', '2022']"
      ]
     },
     "execution_count": 7,
     "metadata": {},
     "output_type": "execute_result"
    }
   ],
   "source": [
    "list(se.values)"
   ]
  },
  {
   "cell_type": "markdown",
   "id": "fd6a5d36",
   "metadata": {},
   "source": [
    "## 특징값 추출 - 인덱싱"
   ]
  },
  {
   "cell_type": "code",
   "execution_count": 8,
   "id": "311f8c1f",
   "metadata": {},
   "outputs": [
    {
     "data": {
      "text/plain": [
       "0    2019\n",
       "1    2020\n",
       "2    2021\n",
       "3    2022\n",
       "dtype: object"
      ]
     },
     "execution_count": 8,
     "metadata": {},
     "output_type": "execute_result"
    }
   ],
   "source": [
    "se"
   ]
  },
  {
   "cell_type": "code",
   "execution_count": 9,
   "id": "e1c41eda",
   "metadata": {},
   "outputs": [
    {
     "data": {
      "text/plain": [
       "'2019'"
      ]
     },
     "execution_count": 9,
     "metadata": {},
     "output_type": "execute_result"
    }
   ],
   "source": [
    "se[0]"
   ]
  },
  {
   "cell_type": "code",
   "execution_count": 10,
   "id": "ef2f4061",
   "metadata": {},
   "outputs": [
    {
     "data": {
      "text/plain": [
       "'2022'"
      ]
     },
     "execution_count": 10,
     "metadata": {},
     "output_type": "execute_result"
    }
   ],
   "source": [
    "se[3]"
   ]
  },
  {
   "cell_type": "markdown",
   "id": "74ccdb4e",
   "metadata": {},
   "source": [
    "## 특정 범위 추출 - 슬라이싱"
   ]
  },
  {
   "cell_type": "code",
   "execution_count": 11,
   "id": "7dea738b",
   "metadata": {},
   "outputs": [
    {
     "data": {
      "text/plain": [
       "0    2019\n",
       "1    2020\n",
       "2    2021\n",
       "dtype: object"
      ]
     },
     "execution_count": 11,
     "metadata": {},
     "output_type": "execute_result"
    }
   ],
   "source": [
    "se[0:3]"
   ]
  },
  {
   "cell_type": "code",
   "execution_count": 12,
   "id": "b5077df5",
   "metadata": {},
   "outputs": [
    {
     "data": {
      "text/plain": [
       "0    2019\n",
       "1    2020\n",
       "2    2021\n",
       "3    2022\n",
       "dtype: object"
      ]
     },
     "execution_count": 12,
     "metadata": {},
     "output_type": "execute_result"
    }
   ],
   "source": [
    "se[:]"
   ]
  },
  {
   "cell_type": "markdown",
   "id": "57fe06d1",
   "metadata": {},
   "source": [
    "## index 이름과 columns 이름 지정"
   ]
  },
  {
   "cell_type": "code",
   "execution_count": 13,
   "id": "65f31360",
   "metadata": {},
   "outputs": [
    {
     "data": {
      "text/plain": [
       "0    2018\n",
       "1    2019\n",
       "2    2020\n",
       "3    2021\n",
       "dtype: object"
      ]
     },
     "execution_count": 13,
     "metadata": {},
     "output_type": "execute_result"
    }
   ],
   "source": [
    "data = ['2018', '2019', '2020', '2021']\n",
    "se = pd.Series(data)\n",
    "se"
   ]
  },
  {
   "cell_type": "code",
   "execution_count": 14,
   "id": "99304a0a",
   "metadata": {},
   "outputs": [],
   "source": [
    "se.name = 'year'"
   ]
  },
  {
   "cell_type": "code",
   "execution_count": 15,
   "id": "25904807",
   "metadata": {},
   "outputs": [
    {
     "data": {
      "text/plain": [
       "0    2018\n",
       "1    2019\n",
       "2    2020\n",
       "3    2021\n",
       "Name: year, dtype: object"
      ]
     },
     "execution_count": 15,
     "metadata": {},
     "output_type": "execute_result"
    }
   ],
   "source": [
    "se"
   ]
  },
  {
   "cell_type": "code",
   "execution_count": 16,
   "id": "72b21356",
   "metadata": {},
   "outputs": [],
   "source": [
    "se.index.name = \"No\""
   ]
  },
  {
   "cell_type": "code",
   "execution_count": 17,
   "id": "d3c7396c",
   "metadata": {},
   "outputs": [
    {
     "data": {
      "text/plain": [
       "No\n",
       "0    2018\n",
       "1    2019\n",
       "2    2020\n",
       "3    2021\n",
       "Name: year, dtype: object"
      ]
     },
     "execution_count": 17,
     "metadata": {},
     "output_type": "execute_result"
    }
   ],
   "source": [
    "se"
   ]
  },
  {
   "cell_type": "markdown",
   "id": "afc1e7c4",
   "metadata": {},
   "source": [
    "## Series 생성시 index 지정하기"
   ]
  },
  {
   "cell_type": "code",
   "execution_count": 18,
   "id": "3272f253",
   "metadata": {},
   "outputs": [
    {
     "data": {
      "text/plain": [
       "a    2019\n",
       "b    2020\n",
       "c    2021\n",
       "d    2022\n",
       "dtype: object"
      ]
     },
     "execution_count": 18,
     "metadata": {},
     "output_type": "execute_result"
    }
   ],
   "source": [
    "data = ['2019', '2020', '2021', '2022']\n",
    "se = pd.Series(data, index = ['a', 'b', 'c', 'd'])\n",
    "se"
   ]
  },
  {
   "cell_type": "code",
   "execution_count": 19,
   "id": "d4a37d6e",
   "metadata": {},
   "outputs": [
    {
     "data": {
      "text/plain": [
       "'2019'"
      ]
     },
     "execution_count": 19,
     "metadata": {},
     "output_type": "execute_result"
    }
   ],
   "source": [
    "se['a']"
   ]
  },
  {
   "cell_type": "code",
   "execution_count": 20,
   "id": "f3c55f18",
   "metadata": {},
   "outputs": [
    {
     "data": {
      "text/plain": [
       "a    2019\n",
       "b    2020\n",
       "c    2021\n",
       "d    2022\n",
       "dtype: object"
      ]
     },
     "execution_count": 20,
     "metadata": {},
     "output_type": "execute_result"
    }
   ],
   "source": [
    "se['a':'d']"
   ]
  },
  {
   "cell_type": "code",
   "execution_count": 21,
   "id": "4ea264bc",
   "metadata": {},
   "outputs": [
    {
     "data": {
      "text/plain": [
       "Index(['a', 'b', 'c', 'd'], dtype='object')"
      ]
     },
     "execution_count": 21,
     "metadata": {},
     "output_type": "execute_result"
    }
   ],
   "source": [
    "se.index"
   ]
  },
  {
   "cell_type": "code",
   "execution_count": null,
   "id": "5065ec09",
   "metadata": {},
   "outputs": [],
   "source": []
  }
 ],
 "metadata": {
  "kernelspec": {
   "display_name": "Python 3 (ipykernel)",
   "language": "python",
   "name": "python3"
  },
  "language_info": {
   "codemirror_mode": {
    "name": "ipython",
    "version": 3
   },
   "file_extension": ".py",
   "mimetype": "text/x-python",
   "name": "python",
   "nbconvert_exporter": "python",
   "pygments_lexer": "ipython3",
   "version": "3.9.7"
  }
 },
 "nbformat": 4,
 "nbformat_minor": 5
}
