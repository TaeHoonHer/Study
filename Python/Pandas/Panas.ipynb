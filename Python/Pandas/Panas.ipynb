{
 "cells": [
  {
   "cell_type": "markdown",
   "id": "aeb43cf7",
   "metadata": {},
   "source": [
    "### Tensorflow\n",
    "- 머신러닝 오픈소스 라이브러리\n",
    "\n",
    "### Keras\n",
    "- 텐서플로우에 대한 추상화 API 제공\n",
    "- 백엔드로 텐서플로우로 사용하며, 쉽게 딥러닝을 사용할 수 있게 도와준다\n",
    "\n",
    "### GenSIM\n",
    "- 머신러닝을 사용, 토픽 모델링과 자연어 처리 등을 수행할 있게 해주는 오픈소스 라이브러리\n",
    "\n",
    "### Scikit-learn\n",
    "- 파이썬 머신러닝 라이브러리\n",
    "\n",
    "### NLK\n",
    "- 자연어 처리를 위한 파이썬 패키지\n",
    "\n",
    "### KoNLPy\n",
    "- 자연어 처리를 위한 형태소 분석기 패키지"
   ]
  },
  {
   "cell_type": "markdown",
   "id": "976eaa1e",
   "metadata": {},
   "source": [
    "##  Pandas \n",
    "- 데이터 처리를 위한 라이브러리\n",
    "\n",
    "3가지의 데이터 구조 사용\n",
    "1. 시리즈\n",
    "2. 데이터프레임\n",
    "3. 패널"
   ]
  },
  {
   "cell_type": "code",
   "execution_count": 5,
   "id": "3d7a555e",
   "metadata": {},
   "outputs": [],
   "source": [
    "import pandas as pd"
   ]
  },
  {
   "cell_type": "markdown",
   "id": "a77ab932",
   "metadata": {},
   "source": [
    "## Series\n",
    "- 시리즈 클래스는 1차원 배열의 값(values)에 각 값에 대응되는 index를 부여할 수 있는 구조"
   ]
  },
  {
   "cell_type": "code",
   "execution_count": 6,
   "id": "4317e3bb",
   "metadata": {},
   "outputs": [
    {
     "name": "stdout",
     "output_type": "stream",
     "text": [
      "시리즈 출력 :\n",
      "----------\n",
      "피자    17000\n",
      "치킨    18000\n",
      "콜라     1000\n",
      "맥주     5000\n",
      "dtype: int64\n"
     ]
    }
   ],
   "source": [
    "sr = pd.Series([17000, 18000, 1000, 5000],\n",
    "               index=[\"피자\", \"치킨\", \"콜라\", \"맥주\"])\n",
    "print('시리즈 출력 :')\n",
    "print('-'*10)\n",
    "print(sr)"
   ]
  },
  {
   "cell_type": "code",
   "execution_count": 7,
   "id": "1983a32e",
   "metadata": {},
   "outputs": [
    {
     "name": "stdout",
     "output_type": "stream",
     "text": [
      "시리즈의 값 : [17000 18000  1000  5000]\n",
      "시리즈의 인덱스 : Index(['피자', '치킨', '콜라', '맥주'], dtype='object')\n"
     ]
    }
   ],
   "source": [
    "## 값, 인덱스 출력\n",
    "print('시리즈의 값 : {}'.format(sr.values))\n",
    "print('시리즈의 인덱스 : {}'.format(sr.index))"
   ]
  },
  {
   "cell_type": "markdown",
   "id": "68dff4d7",
   "metadata": {},
   "source": [
    "## DataFrame\n",
    "- 2차원 리스트를 매개변수로 전달한다\n",
    "- 2차원이기 때문에 행(raw), 열(column)이 존재한다"
   ]
  },
  {
   "cell_type": "code",
   "execution_count": 8,
   "id": "c7108c39",
   "metadata": {},
   "outputs": [
    {
     "name": "stdout",
     "output_type": "stream",
     "text": [
      "데이터프레임 출력 :\n",
      "------------------\n",
      "       A  B  C\n",
      "one    1  2  3\n",
      "two    4  5  6\n",
      "three  7  8  9\n"
     ]
    }
   ],
   "source": [
    "values = [[1, 2, 3], [4, 5, 6], [7, 8, 9]]\n",
    "index = ['one', 'two', 'three']\n",
    "columns = ['A', 'B', 'C']\n",
    "\n",
    "df = pd.DataFrame(values, index=index, columns=columns)\n",
    "\n",
    "print('데이터프레임 출력 :')\n",
    "print('-'*18)\n",
    "print(df)"
   ]
  },
  {
   "cell_type": "markdown",
   "id": "b18cc670",
   "metadata": {},
   "source": [
    "### index, 값(value), 열(column) 출력"
   ]
  },
  {
   "cell_type": "code",
   "execution_count": 14,
   "id": "556798ed",
   "metadata": {},
   "outputs": [
    {
     "name": "stdout",
     "output_type": "stream",
     "text": [
      "데이터프레임 인덱스 : Index(['one', 'two', 'three'], dtype='object')\n",
      "데이터프레임 열 : Index(['A', 'B', 'C'], dtype='object')\n",
      "데이터프레임 값\n",
      "********************\n",
      "[[1 2 3]\n",
      " [4 5 6]\n",
      " [7 8 9]]\n"
     ]
    }
   ],
   "source": [
    "print('데이터프레임 인덱스 : {}'.format(df.index))\n",
    "print('데이터프레임 열 : {}'.format(df.columns))\n",
    "print('데이터프레임 값')\n",
    "print(\"*\" * 20)\n",
    "print(df.values)"
   ]
  },
  {
   "cell_type": "markdown",
   "id": "ab7df3a6",
   "metadata": {},
   "source": [
    "## DataFrame 생성\n",
    "- 데이터프레임은 다양한 데이터프레임을 생성할 수 있다"
   ]
  },
  {
   "cell_type": "code",
   "execution_count": 15,
   "id": "e58bd682",
   "metadata": {},
   "outputs": [
    {
     "name": "stdout",
     "output_type": "stream",
     "text": [
      "      0         1      2\n",
      "0  1000     Steve  90.72\n",
      "1  1001     James  78.09\n",
      "2  1002    Doyeon  98.43\n",
      "3  1003      Jane  64.19\n",
      "4  1004  Pilwoong  81.30\n",
      "5  1005      Tony  99.14\n"
     ]
    }
   ],
   "source": [
    "## 리스트로 생성\n",
    "data = [\n",
    "    ['1000', 'Steve', 90.72], \n",
    "    ['1001', 'James', 78.09], \n",
    "    ['1002', 'Doyeon', 98.43], \n",
    "    ['1003', 'Jane', 64.19], \n",
    "    ['1004', 'Pilwoong', 81.30],\n",
    "    ['1005', 'Tony', 99.14],\n",
    "]\n",
    "\n",
    "df = pd.DataFrame(data)\n",
    "print(df)"
   ]
  },
  {
   "cell_type": "markdown",
   "id": "f0d67c96",
   "metadata": {},
   "source": [
    "이렇게 생성된 데이터프레임에 열(columns)를 지정해보자"
   ]
  },
  {
   "cell_type": "code",
   "execution_count": 16,
   "id": "62433c6c",
   "metadata": {},
   "outputs": [
    {
     "name": "stdout",
     "output_type": "stream",
     "text": [
      "     학번        이름     점수\n",
      "0  1000     Steve  90.72\n",
      "1  1001     James  78.09\n",
      "2  1002    Doyeon  98.43\n",
      "3  1003      Jane  64.19\n",
      "4  1004  Pilwoong  81.30\n",
      "5  1005      Tony  99.14\n"
     ]
    }
   ],
   "source": [
    "df = pd.DataFrame(data, columns = ['학번', '이름', '점수'])\n",
    "print(df)"
   ]
  },
  {
   "cell_type": "markdown",
   "id": "d5b09a0c",
   "metadata": {},
   "source": [
    "딕셔너리를 통해 데이터프레임을 생성해보자"
   ]
  },
  {
   "cell_type": "code",
   "execution_count": 17,
   "id": "33d77140",
   "metadata": {},
   "outputs": [
    {
     "name": "stdout",
     "output_type": "stream",
     "text": [
      "     학번        이름     점수\n",
      "0  1000     Steve  90.72\n",
      "1  1001     James  78.09\n",
      "2  1002    Doyeon  98.43\n",
      "3  1003      Jane  64.19\n",
      "4  1004  Pilwoong  81.30\n",
      "5  1005      Tony  99.14\n"
     ]
    }
   ],
   "source": [
    "data = {\n",
    "    '학번' : ['1000', '1001', '1002', '1003', '1004', '1005'],\n",
    "    '이름' : [ 'Steve', 'James', 'Doyeon', 'Jane', 'Pilwoong', 'Tony'],\n",
    "    '점수': [90.72, 78.09, 98.43, 64.19, 81.30, 99.14]\n",
    "    }\n",
    "\n",
    "df = pd.DataFrame(data)\n",
    "print(df)"
   ]
  },
  {
   "cell_type": "markdown",
   "id": "181bf839",
   "metadata": {},
   "source": [
    "## 데이터프레임 조회하기\n",
    "### 명령어 종류\n",
    "\n",
    "- df.head(n) : 앞 부분을 n개만 보기\n",
    "- df.tail(n) : 뒷 부분을 n개만 보기\n",
    "- df['열이름'] : 해당되는 열을 확인"
   ]
  },
  {
   "cell_type": "code",
   "execution_count": 18,
   "id": "dbf491b1",
   "metadata": {},
   "outputs": [
    {
     "name": "stdout",
     "output_type": "stream",
     "text": [
      "     학번      이름     점수\n",
      "0  1000   Steve  90.72\n",
      "1  1001   James  78.09\n",
      "2  1002  Doyeon  98.43\n"
     ]
    }
   ],
   "source": [
    "# 앞 부분을 3개만 보기\n",
    "print(df.head(3))"
   ]
  },
  {
   "cell_type": "code",
   "execution_count": 19,
   "id": "19da6b90",
   "metadata": {},
   "outputs": [
    {
     "name": "stdout",
     "output_type": "stream",
     "text": [
      "     학번        이름     점수\n",
      "3  1003      Jane  64.19\n",
      "4  1004  Pilwoong  81.30\n",
      "5  1005      Tony  99.14\n"
     ]
    }
   ],
   "source": [
    "# 뒷 부분을 3개만 보기\n",
    "print(df.tail(3))"
   ]
  },
  {
   "cell_type": "code",
   "execution_count": 20,
   "id": "9c387947",
   "metadata": {},
   "outputs": [
    {
     "name": "stdout",
     "output_type": "stream",
     "text": [
      "0    1000\n",
      "1    1001\n",
      "2    1002\n",
      "3    1003\n",
      "4    1004\n",
      "5    1005\n",
      "Name: 학번, dtype: object\n"
     ]
    }
   ],
   "source": [
    "# '학번'에 해당되는 열을 보기\n",
    "print(df['학번'])"
   ]
  },
  {
   "cell_type": "code",
   "execution_count": 21,
   "id": "75a6bb83",
   "metadata": {
    "scrolled": true
   },
   "outputs": [
    {
     "name": "stdout",
     "output_type": "stream",
     "text": [
      "   student id      name   score\n",
      "0         100     Steve   90.12\n",
      "1         101     James   80.34\n",
      "2         102    Doyeon   79.12\n",
      "3         103      Jane   81.30\n",
      "4         104  Pilwoong   99.14\n",
      "5         105      Tony   98.12\n",
      "6         106   TaeHoon  100.00\n"
     ]
    }
   ],
   "source": [
    "df = pd.read_csv('th_1.csv')\n",
    "print(df)"
   ]
  },
  {
   "cell_type": "code",
   "execution_count": 22,
   "id": "5e379700",
   "metadata": {},
   "outputs": [
    {
     "name": "stdout",
     "output_type": "stream",
     "text": [
      "RangeIndex(start=0, stop=7, step=1)\n"
     ]
    }
   ],
   "source": [
    "print(df.index)"
   ]
  }
 ],
 "metadata": {
  "kernelspec": {
   "display_name": "Python 3 (ipykernel)",
   "language": "python",
   "name": "python3"
  },
  "language_info": {
   "codemirror_mode": {
    "name": "ipython",
    "version": 3
   },
   "file_extension": ".py",
   "mimetype": "text/x-python",
   "name": "python",
   "nbconvert_exporter": "python",
   "pygments_lexer": "ipython3",
   "version": "3.9.7"
  }
 },
 "nbformat": 4,
 "nbformat_minor": 5
}
