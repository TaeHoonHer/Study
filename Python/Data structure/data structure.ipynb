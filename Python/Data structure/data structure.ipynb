{
 "cells": [
  {
   "cell_type": "markdown",
   "id": "3a6d9830",
   "metadata": {},
   "source": [
    "## 파이썬 자료구조 - 리스트"
   ]
  },
  {
   "cell_type": "code",
   "execution_count": 3,
   "id": "5a600b1a",
   "metadata": {},
   "outputs": [
    {
     "name": "stdout",
     "output_type": "stream",
     "text": [
      "[10, 20, 30, 40]\n",
      "<class 'list'>\n"
     ]
    }
   ],
   "source": [
    "aa = [10, 20, 30, 40]\n",
    "#대괄호 사용\n",
    "print(aa)\n",
    "print(type(aa))"
   ]
  },
  {
   "cell_type": "markdown",
   "id": "6656a11e",
   "metadata": {},
   "source": [
    "### list()와 range()을 이용하여 리스트 만들기"
   ]
  },
  {
   "cell_type": "code",
   "execution_count": 4,
   "id": "ad54e739",
   "metadata": {},
   "outputs": [
    {
     "name": "stdout",
     "output_type": "stream",
     "text": [
      "[0, 1, 2, 3, 4, 5, 6, 7, 8, 9]\n"
     ]
    }
   ],
   "source": [
    "aa = list(range(10))\n",
    "#range(0, 10, 1)\n",
    "\n",
    "print(aa)"
   ]
  },
  {
   "cell_type": "code",
   "execution_count": 7,
   "id": "706a5c25",
   "metadata": {},
   "outputs": [
    {
     "name": "stdout",
     "output_type": "stream",
     "text": [
      "[10, 9, 8, 7, 6, 5, 4, 3, 2, 1]\n"
     ]
    }
   ],
   "source": [
    "bb = list(range(10, 0, -1))\n",
    "print(bb)"
   ]
  },
  {
   "cell_type": "code",
   "execution_count": 9,
   "id": "40e9c2a6",
   "metadata": {},
   "outputs": [
    {
     "name": "stdout",
     "output_type": "stream",
     "text": [
      "[9, 8, 7, 6, 5, 4, 3, 2, 1, 0]\n"
     ]
    }
   ],
   "source": [
    "cc = list(reversed(range(10)))\n",
    "print(cc)"
   ]
  },
  {
   "cell_type": "markdown",
   "id": "aaad03ed",
   "metadata": {},
   "source": [
    "### for로 모든 리스트 출력하기"
   ]
  },
  {
   "cell_type": "code",
   "execution_count": 10,
   "id": "c74e37c7",
   "metadata": {},
   "outputs": [
    {
     "name": "stdout",
     "output_type": "stream",
     "text": [
      "10\n",
      "20\n",
      "30\n",
      "40\n"
     ]
    }
   ],
   "source": [
    "aa = [10, 20, 30, 40]\n",
    "for i in aa:\n",
    "    print(i)"
   ]
  },
  {
   "cell_type": "code",
   "execution_count": 12,
   "id": "e16fe744",
   "metadata": {},
   "outputs": [],
   "source": [
    "## enumerate()함수를 사용해보자(순서를 알 수 있다)"
   ]
  },
  {
   "cell_type": "code",
   "execution_count": 14,
   "id": "0651cadf",
   "metadata": {},
   "outputs": [
    {
     "name": "stdout",
     "output_type": "stream",
     "text": [
      "0 10\n",
      "1 20\n",
      "2 30\n",
      "3 40\n"
     ]
    }
   ],
   "source": [
    "aa = [10, 20, 30, 40]\n",
    "for i, j in enumerate(aa):\n",
    "    print(i, j)"
   ]
  },
  {
   "cell_type": "markdown",
   "id": "cf5b2676",
   "metadata": {},
   "source": [
    "### 리스트의 합 구하기"
   ]
  },
  {
   "cell_type": "code",
   "execution_count": 15,
   "id": "aedabddb",
   "metadata": {},
   "outputs": [
    {
     "name": "stdout",
     "output_type": "stream",
     "text": [
      "100\n"
     ]
    }
   ],
   "source": [
    "aa = [10,20,30,40]\n",
    "hap = 0\n",
    "for i in aa:\n",
    "    hap = hap + i\n",
    "\n",
    "print(hap)"
   ]
  },
  {
   "cell_type": "markdown",
   "id": "bffdbb59",
   "metadata": {},
   "source": [
    "### 리스트의 인덱싱과 슬라이싱"
   ]
  },
  {
   "cell_type": "code",
   "execution_count": 16,
   "id": "0c095921",
   "metadata": {},
   "outputs": [
    {
     "data": {
      "text/plain": [
       "10"
      ]
     },
     "execution_count": 16,
     "metadata": {},
     "output_type": "execute_result"
    }
   ],
   "source": [
    "aa = [10, 20, 30, 40, 50, 60, 70, 80, 90]\n",
    "aa[0]"
   ]
  },
  {
   "cell_type": "code",
   "execution_count": 17,
   "id": "2312b0df",
   "metadata": {},
   "outputs": [
    {
     "data": {
      "text/plain": [
       "30"
      ]
     },
     "execution_count": 17,
     "metadata": {},
     "output_type": "execute_result"
    }
   ],
   "source": [
    "aa[2]"
   ]
  },
  {
   "cell_type": "code",
   "execution_count": 18,
   "id": "6d95a7b5",
   "metadata": {},
   "outputs": [
    {
     "data": {
      "text/plain": [
       "80"
      ]
     },
     "execution_count": 18,
     "metadata": {},
     "output_type": "execute_result"
    }
   ],
   "source": [
    "aa[-2]"
   ]
  },
  {
   "cell_type": "code",
   "execution_count": 19,
   "id": "71be3e27",
   "metadata": {},
   "outputs": [
    {
     "data": {
      "text/plain": [
       "[10, 20, 30, 40, 50]"
      ]
     },
     "execution_count": 19,
     "metadata": {},
     "output_type": "execute_result"
    }
   ],
   "source": [
    "aa[0:5]\n",
    "#끝값이 5 = 인덱스 4번까지 들고와라"
   ]
  },
  {
   "cell_type": "code",
   "execution_count": 20,
   "id": "50a82a15",
   "metadata": {},
   "outputs": [
    {
     "data": {
      "text/plain": [
       "[]"
      ]
     },
     "execution_count": 20,
     "metadata": {},
     "output_type": "execute_result"
    }
   ],
   "source": [
    "aa[1:1]\n",
    "#값이 없다"
   ]
  },
  {
   "cell_type": "code",
   "execution_count": 22,
   "id": "4a50bc14",
   "metadata": {},
   "outputs": [
    {
     "data": {
      "text/plain": [
       "[10, 20, 30, 40, 50, 60, 70, 80, 90]"
      ]
     },
     "execution_count": 22,
     "metadata": {},
     "output_type": "execute_result"
    }
   ],
   "source": [
    "aa[0:len(aa)]\n",
    "#aa의 길이를 끝값으로 함으로써 전체를 출력한다"
   ]
  },
  {
   "cell_type": "markdown",
   "id": "45759212",
   "metadata": {},
   "source": [
    "### 리스트 값 변경"
   ]
  },
  {
   "cell_type": "code",
   "execution_count": 24,
   "id": "7e0fc386",
   "metadata": {},
   "outputs": [
    {
     "name": "stdout",
     "output_type": "stream",
     "text": [
      "[10, 200, 30]\n"
     ]
    }
   ],
   "source": [
    "aa = [10, 20, 30]\n",
    "aa[1] = 200\n",
    "print(aa)\n",
    "\n",
    "#리스트는 값을 내 마음대로 바꿀 수 있다"
   ]
  },
  {
   "cell_type": "code",
   "execution_count": 25,
   "id": "00d2ec4c",
   "metadata": {},
   "outputs": [
    {
     "name": "stdout",
     "output_type": "stream",
     "text": [
      "[10, 30]\n"
     ]
    }
   ],
   "source": [
    "aa = [10, 20, 30]\n",
    "del(aa[1])\n",
    "print(aa)\n",
    "\n",
    "#del로 삭제도 가능하다"
   ]
  },
  {
   "cell_type": "markdown",
   "id": "010a6356",
   "metadata": {},
   "source": [
    "### 파이썬 자료구조 - 튜플(tuple)"
   ]
  },
  {
   "cell_type": "code",
   "execution_count": 26,
   "id": "fcb1edba",
   "metadata": {},
   "outputs": [
    {
     "name": "stdout",
     "output_type": "stream",
     "text": [
      "'tuple' object has no attribute 'append'\n"
     ]
    }
   ],
   "source": [
    "tt1 = (10, 20, 30)\n",
    "\n",
    "try:\n",
    "    tt1.append(40)\n",
    "except Exception as e:\n",
    "    print(e\n",
    "          \n",
    "# tuple은 값을 변경할 수 없다"
   ]
  },
  {
   "cell_type": "markdown",
   "id": "0aeaaf7b",
   "metadata": {},
   "source": [
    "### 리스트의 연산"
   ]
  },
  {
   "cell_type": "code",
   "execution_count": 28,
   "id": "08c7e01e",
   "metadata": {},
   "outputs": [
    {
     "name": "stdout",
     "output_type": "stream",
     "text": [
      "[10, 20, 30, 40, 50, 60]\n"
     ]
    }
   ],
   "source": [
    "aa = [10, 20, 30]\n",
    "bb = [40, 50, 60]\n",
    "print(aa + bb)\n",
    "\n",
    "#2개의 리스트를 연결해준다"
   ]
  },
  {
   "cell_type": "code",
   "execution_count": 29,
   "id": "3c4963fa",
   "metadata": {},
   "outputs": [
    {
     "name": "stdout",
     "output_type": "stream",
     "text": [
      "[10, 20, 30, 10, 20, 30, 10, 20, 30]\n"
     ]
    }
   ],
   "source": [
    "aa = [10,20,30]\n",
    "print(aa * 3)\n",
    "\n",
    "#리스트의 값을 반복한다"
   ]
  },
  {
   "cell_type": "markdown",
   "id": "d639bda0",
   "metadata": {},
   "source": [
    "### 리스트 조작함수"
   ]
  },
  {
   "cell_type": "code",
   "execution_count": 31,
   "id": "f1c380bd",
   "metadata": {},
   "outputs": [
    {
     "name": "stdout",
     "output_type": "stream",
     "text": [
      "[30, 20, 19, 15, 10]\n"
     ]
    }
   ],
   "source": [
    "#내림차순\n",
    "aa = [10,20,15,19,30]\n",
    "aa.sort(reverse = True)\n",
    "print(aa)"
   ]
  },
  {
   "cell_type": "code",
   "execution_count": 32,
   "id": "33f1eced",
   "metadata": {},
   "outputs": [
    {
     "data": {
      "text/plain": [
       "[10, 15, 18, 20, 20, 30]"
      ]
     },
     "execution_count": 32,
     "metadata": {},
     "output_type": "execute_result"
    }
   ],
   "source": [
    "#오른차순(sort 함수)\n",
    "bb = [10,20,30,15,18,20]\n",
    "sorted(bb)"
   ]
  },
  {
   "cell_type": "code",
   "execution_count": 34,
   "id": "b1b76a4e",
   "metadata": {},
   "outputs": [
    {
     "data": {
      "text/plain": [
       "[30, 20, 20, 18, 15, 10]"
      ]
     },
     "execution_count": 34,
     "metadata": {},
     "output_type": "execute_result"
    }
   ],
   "source": [
    "#sorted 함수 내림차순\n",
    "bb = [10,20,30,15,18,20]\n",
    "sorted(bb, reverse = True)"
   ]
  },
  {
   "cell_type": "markdown",
   "id": "27b72ea8",
   "metadata": {},
   "source": [
    "### unpacking, packing, zip"
   ]
  },
  {
   "cell_type": "markdown",
   "id": "048272e4",
   "metadata": {},
   "source": [
    "#### 언패킹"
   ]
  },
  {
   "cell_type": "code",
   "execution_count": 35,
   "id": "ff6a64d1",
   "metadata": {},
   "outputs": [
    {
     "name": "stdout",
     "output_type": "stream",
     "text": [
      "1 2 3\n"
     ]
    }
   ],
   "source": [
    "x = [1, 2, 3]\n",
    "a, b, c = x\n",
    "print(a, b, c)"
   ]
  },
  {
   "cell_type": "markdown",
   "id": "ac73b71d",
   "metadata": {},
   "source": [
    "#### packing"
   ]
  },
  {
   "cell_type": "code",
   "execution_count": 36,
   "id": "8158d9f9",
   "metadata": {},
   "outputs": [
    {
     "data": {
      "text/plain": [
       "[list, tuple, tuple]"
      ]
     },
     "execution_count": 36,
     "metadata": {},
     "output_type": "execute_result"
    }
   ],
   "source": [
    "a = [1,2,3]\n",
    "b = (1,2,3)\n",
    "c = 1,2,3\n",
    "\n",
    "#c도 tuple이다. 소괄호는 생략 가능\n",
    "\n",
    "list(map(type, [a,b,c]))"
   ]
  },
  {
   "cell_type": "markdown",
   "id": "1be3ba7f",
   "metadata": {},
   "source": [
    "#### zip"
   ]
  },
  {
   "cell_type": "code",
   "execution_count": 39,
   "id": "4acd6c96",
   "metadata": {},
   "outputs": [
    {
     "name": "stdout",
     "output_type": "stream",
     "text": [
      "('apple', 3500)\n",
      "('banana', 2000)\n",
      "('cherry', 5000)\n"
     ]
    }
   ],
   "source": [
    "a = ['apple', 'banana', 'cherry']\n",
    "b = [3500, 2000, 5000]\n",
    "for a,b in zip(a, b):\n",
    "    print((a, b))"
   ]
  },
  {
   "cell_type": "markdown",
   "id": "3d4637b0",
   "metadata": {},
   "source": [
    "### 파이썬 자료구조 - 딕셔너리"
   ]
  },
  {
   "cell_type": "code",
   "execution_count": 43,
   "id": "917a1975",
   "metadata": {},
   "outputs": [
    {
     "name": "stdout",
     "output_type": "stream",
     "text": [
      "{'학번': 20205274, '이름': '허태훈', '학과': '컴퓨터공학과'}\n",
      "<class 'dict'>\n"
     ]
    }
   ],
   "source": [
    "#학생정보 딕셔너리\n",
    "student = {'학번' : 20205274, '이름' : '허태훈', '학과':'컴퓨터공학과'}\n",
    "print(student)\n",
    "print(type(student))\n",
    "\n",
    "#해싱구조이기때문에 딕셔너리를 검색속도가 상당히 빠르다"
   ]
  },
  {
   "cell_type": "code",
   "execution_count": 44,
   "id": "c935de5d",
   "metadata": {},
   "outputs": [
    {
     "name": "stdout",
     "output_type": "stream",
     "text": [
      "20205274\n",
      "20205274\n"
     ]
    }
   ],
   "source": [
    "#딕셔너리 접근(검색)\n",
    "print(student['학번'])\n",
    "print(student.get('학번'))\n",
    "\n",
    "#겁색방법\n",
    "#1. 학번을 입력하거나, get이라는 함수를 사용한다"
   ]
  },
  {
   "cell_type": "code",
   "execution_count": 45,
   "id": "f3940e0e",
   "metadata": {},
   "outputs": [],
   "source": [
    "#없는 자료를 찾을 때 예시로 student['주소']를 할 경우 에러가 발생, 코드가 멈출 수 있다\n",
    "#그러기 때문에 student.get()을 선호한다"
   ]
  },
  {
   "cell_type": "markdown",
   "id": "a62a1743",
   "metadata": {},
   "source": [
    "### 딕셔너리의 함수"
   ]
  },
  {
   "cell_type": "code",
   "execution_count": 48,
   "id": "1b8e0332",
   "metadata": {},
   "outputs": [
    {
     "data": {
      "text/plain": [
       "dict_keys(['학번', '이름', '학과'])"
      ]
     },
     "execution_count": 48,
     "metadata": {},
     "output_type": "execute_result"
    }
   ],
   "source": [
    "student.keys()\n",
    "\n",
    "#1. keys : 키값을 모아준다"
   ]
  },
  {
   "cell_type": "code",
   "execution_count": 50,
   "id": "cdcb8252",
   "metadata": {},
   "outputs": [
    {
     "data": {
      "text/plain": [
       "dict_values([20205274, '허태훈', '컴퓨터공학과'])"
      ]
     },
     "execution_count": 50,
     "metadata": {},
     "output_type": "execute_result"
    }
   ],
   "source": [
    "student.values()\n",
    "\n",
    "# 값들을 모아서 보여준다"
   ]
  },
  {
   "cell_type": "code",
   "execution_count": 51,
   "id": "f596230c",
   "metadata": {},
   "outputs": [
    {
     "data": {
      "text/plain": [
       "dict_items([('학번', 20205274), ('이름', '허태훈'), ('학과', '컴퓨터공학과')])"
      ]
     },
     "execution_count": 51,
     "metadata": {},
     "output_type": "execute_result"
    }
   ],
   "source": [
    "student.items()"
   ]
  },
  {
   "cell_type": "code",
   "execution_count": 54,
   "id": "608d8e10",
   "metadata": {},
   "outputs": [
    {
     "name": "stdout",
     "output_type": "stream",
     "text": [
      "학번 20205274\n",
      "이름 허태훈\n",
      "학과 컴퓨터공학과\n"
     ]
    }
   ],
   "source": [
    "for i, j in student.items():\n",
    "    print(i, j)"
   ]
  },
  {
   "cell_type": "markdown",
   "id": "a4543189",
   "metadata": {},
   "source": [
    "### in 연산자"
   ]
  },
  {
   "cell_type": "code",
   "execution_count": 56,
   "id": "9d0d6e5f",
   "metadata": {},
   "outputs": [
    {
     "data": {
      "text/plain": [
       "False"
      ]
     },
     "execution_count": 56,
     "metadata": {},
     "output_type": "execute_result"
    }
   ],
   "source": [
    "'주소' in student\n",
    "\n",
    "#키값이 딕셔너리 안에 있는지 없는지 판별할 수 있다"
   ]
  },
  {
   "cell_type": "markdown",
   "id": "32424a42",
   "metadata": {},
   "source": [
    "### 문자열(String)"
   ]
  },
  {
   "cell_type": "code",
   "execution_count": 57,
   "id": "19596af3",
   "metadata": {},
   "outputs": [
    {
     "name": "stdout",
     "output_type": "stream",
     "text": [
      "python <class 'str'>\n",
      "python <class 'str'>\n",
      "python <class 'str'>\n"
     ]
    }
   ],
   "source": [
    "s1 = 'python'\n",
    "s2 = \"python\"\n",
    "s3 = '''p\n",
    "y\n",
    "t\n",
    "h\n",
    "o\n",
    "n'''\n",
    "\n",
    "print(s1, type(s1))\n",
    "print(s1, type(s2))\n",
    "print(s1, type(s3))\n",
    "\n",
    "#방법 1 : ' ' 사용\n",
    "#방법 2 : \" \" 사용\n",
    "#방법 3 : '''''' 사용"
   ]
  },
  {
   "cell_type": "markdown",
   "id": "b52d2318",
   "metadata": {},
   "source": [
    "#### 문자열 연산"
   ]
  },
  {
   "cell_type": "code",
   "execution_count": 59,
   "id": "a2006c1a",
   "metadata": {},
   "outputs": [
    {
     "name": "stdout",
     "output_type": "stream",
     "text": [
      "허태훈 강서공고 졸업생\n"
     ]
    }
   ],
   "source": [
    "s1 = '허태훈 '\n",
    "s2 = '강서공고 졸업생'\n",
    "print(s1 + s2)"
   ]
  },
  {
   "cell_type": "markdown",
   "id": "20258c83",
   "metadata": {},
   "source": [
    "### 문자열 인덱싱과 슬라이싱"
   ]
  },
  {
   "cell_type": "code",
   "execution_count": 60,
   "id": "98c3701d",
   "metadata": {},
   "outputs": [
    {
     "name": "stdout",
     "output_type": "stream",
     "text": [
      "H\n",
      "d\n",
      "Hello\n",
      "Hello\n"
     ]
    }
   ],
   "source": [
    "a = \"Hello World\"\n",
    "print(a[0])\n",
    "print(a[-1])\n",
    "print(a[0:5])\n",
    "print(a[:5])\n",
    "\n",
    "#문자열의 인덱싱은 리스트의 인덱싱과 비슷하다"
   ]
  },
  {
   "cell_type": "code",
   "execution_count": null,
   "id": "e6e907ca",
   "metadata": {},
   "outputs": [],
   "source": []
  }
 ],
 "metadata": {
  "kernelspec": {
   "display_name": "Python 3 (ipykernel)",
   "language": "python",
   "name": "python3"
  },
  "language_info": {
   "codemirror_mode": {
    "name": "ipython",
    "version": 3
   },
   "file_extension": ".py",
   "mimetype": "text/x-python",
   "name": "python",
   "nbconvert_exporter": "python",
   "pygments_lexer": "ipython3",
   "version": "3.10.2"
  }
 },
 "nbformat": 4,
 "nbformat_minor": 5
}
