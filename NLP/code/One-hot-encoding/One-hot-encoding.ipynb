{
 "cells": [
  {
   "cell_type": "markdown",
   "id": "c30a4cd9",
   "metadata": {},
   "source": [
    "## Konlpy를 사용해서 one-hot-encoding을 해보자"
   ]
  },
  {
   "cell_type": "code",
   "execution_count": 7,
   "id": "ed0102be",
   "metadata": {},
   "outputs": [
    {
     "name": "stdout",
     "output_type": "stream",
     "text": [
      "['자연어', '처리', '공부', '는', '생각', '보다', '재밌다']\n"
     ]
    }
   ],
   "source": [
    "from konlpy.tag import Okt  \n",
    "\n",
    "okt = Okt()  \n",
    "tokens = okt.morphs(\"자연어 처리 공부는 생각보다 재밌다\")  \n",
    "print(tokens)"
   ]
  },
  {
   "cell_type": "code",
   "execution_count": 8,
   "id": "8663599b",
   "metadata": {},
   "outputs": [
    {
     "name": "stdout",
     "output_type": "stream",
     "text": [
      "단어 집합 : {'자연어': 0, '처리': 1, '공부': 2, '는': 3, '생각': 4, '보다': 5, '재밌다': 6}\n"
     ]
    }
   ],
   "source": [
    "word_to_index = {word : index for index, word in enumerate(tokens)}\n",
    "print('단어 집합 :',word_to_index)"
   ]
  },
  {
   "cell_type": "code",
   "execution_count": 9,
   "id": "9d26d24f",
   "metadata": {},
   "outputs": [],
   "source": [
    "def one_hot_encoding(word, word_to_index):\n",
    "  one_hot_vector = [0]*(len(word_to_index))\n",
    "  index = word_to_index[word]\n",
    "  one_hot_vector[index] = 1\n",
    "  return one_hot_vector"
   ]
  },
  {
   "cell_type": "code",
   "execution_count": 10,
   "id": "947fbcb3",
   "metadata": {},
   "outputs": [
    {
     "data": {
      "text/plain": [
       "[1, 0, 0, 0, 0, 0, 0]"
      ]
     },
     "execution_count": 10,
     "metadata": {},
     "output_type": "execute_result"
    }
   ],
   "source": [
    "one_hot_encoding(\"자연어\", word_to_index)"
   ]
  }
 ],
 "metadata": {
  "kernelspec": {
   "display_name": "Python 3 (ipykernel)",
   "language": "python",
   "name": "python3"
  },
  "language_info": {
   "codemirror_mode": {
    "name": "ipython",
    "version": 3
   },
   "file_extension": ".py",
   "mimetype": "text/x-python",
   "name": "python",
   "nbconvert_exporter": "python",
   "pygments_lexer": "ipython3",
   "version": "3.10.2"
  }
 },
 "nbformat": 4,
 "nbformat_minor": 5
}
